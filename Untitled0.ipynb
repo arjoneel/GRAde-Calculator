{
  "nbformat": 4,
  "nbformat_minor": 0,
  "metadata": {
    "colab": {
      "provenance": [],
      "authorship_tag": "ABX9TyP5z/7qfQ027m000Dy5uUak",
      "include_colab_link": true
    },
    "kernelspec": {
      "name": "python3",
      "display_name": "Python 3"
    },
    "language_info": {
      "name": "python"
    }
  },
  "cells": [
    {
      "cell_type": "markdown",
      "metadata": {
        "id": "view-in-github",
        "colab_type": "text"
      },
      "source": [
        "<a href=\"https://colab.research.google.com/github/arjoneel/GRAde-Calculator/blob/main/Untitled0.ipynb\" target=\"_parent\"><img src=\"https://colab.research.google.com/assets/colab-badge.svg\" alt=\"Open In Colab\"/></a>"
      ]
    },
    {
      "cell_type": "code",
      "source": [
        "def fibonacci(count):\n",
        "\tfib_list = [0, 1]\n",
        "\n",
        "\tany(map(lambda _: fib_list.append(sum(fib_list[-2:])),range(2, count)))\n",
        "\n",
        "\treturn fib_list[:count]\n",
        "\n",
        "print(fibonacci(10))\n",
        "\n"
      ],
      "metadata": {
        "colab": {
          "base_uri": "https://localhost:8080/"
        },
        "id": "nRJTHnEsirXI",
        "outputId": "2bc20b30-5f23-45fc-93e2-848a1eb4592d"
      },
      "execution_count": 2,
      "outputs": [
        {
          "output_type": "stream",
          "name": "stdout",
          "text": [
            "[0, 1, 1, 2, 3, 5, 8, 13, 21, 34]\n"
          ]
        }
      ]
    },
    {
      "cell_type": "code",
      "execution_count": null,
      "metadata": {
        "id": "W9Lm0aJ9hkl4"
      },
      "outputs": [],
      "source": []
    }
  ]
}